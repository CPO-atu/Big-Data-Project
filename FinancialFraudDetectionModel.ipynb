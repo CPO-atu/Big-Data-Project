{
  "nbformat": 4,
  "nbformat_minor": 0,
  "metadata": {
    "colab": {
      "provenance": [],
      "authorship_tag": "ABX9TyOIDM2O9fyHVvEZjNTDCx0v",
      "include_colab_link": true
    },
    "kernelspec": {
      "name": "python3",
      "display_name": "Python 3"
    },
    "language_info": {
      "name": "python"
    }
  },
  "cells": [
    {
      "cell_type": "markdown",
      "metadata": {
        "id": "view-in-github",
        "colab_type": "text"
      },
      "source": [
        "<a href=\"https://colab.research.google.com/github/CPO-atu/Big-Data-Project/blob/main/FinancialFraudDetectionModel.ipynb\" target=\"_parent\"><img src=\"https://colab.research.google.com/assets/colab-badge.svg\" alt=\"Open In Colab\"/></a>"
      ]
    },
    {
      "cell_type": "markdown",
      "source": [
        "# Financial Fraud Detection Application"
      ],
      "metadata": {
        "id": "WnI5eGi3e0Np"
      }
    },
    {
      "cell_type": "markdown",
      "source": [
        "**STEP 1: DATA CLEANING**\n",
        "\n",
        "\n"
      ],
      "metadata": {
        "id": "lQYWgH6bI25w"
      }
    },
    {
      "cell_type": "code",
      "execution_count": 1,
      "metadata": {
        "colab": {
          "base_uri": "https://localhost:8080/"
        },
        "id": "wH3DfXY6In5f",
        "outputId": "a8a38139-7bca-4819-9b1a-1014487aa6c2"
      },
      "outputs": [
        {
          "output_type": "stream",
          "name": "stdout",
          "text": [
            "Downloading from https://www.kaggle.com/api/v1/datasets/download/sriharshaeedala/financial-fraud-detection-dataset?dataset_version_number=1...\n"
          ]
        },
        {
          "output_type": "stream",
          "name": "stderr",
          "text": [
            "100%|██████████| 178M/178M [00:05<00:00, 36.5MB/s]"
          ]
        },
        {
          "output_type": "stream",
          "name": "stdout",
          "text": [
            "Extracting files...\n"
          ]
        },
        {
          "output_type": "stream",
          "name": "stderr",
          "text": [
            "\n"
          ]
        },
        {
          "output_type": "stream",
          "name": "stdout",
          "text": [
            "Path to dataset files: /root/.cache/kagglehub/datasets/sriharshaeedala/financial-fraud-detection-dataset/versions/1\n"
          ]
        }
      ],
      "source": [
        "import kagglehub\n",
        "\n",
        "# Download latest version\n",
        "path = kagglehub.dataset_download(\"sriharshaeedala/financial-fraud-detection-dataset\")\n",
        "\n",
        "print(\"Path to dataset files:\", path)"
      ]
    },
    {
      "cell_type": "code",
      "source": [
        "import os\n",
        "import pandas as pd\n",
        "\n",
        "# Check what's inside the downloaded directory\n",
        "dataset_dir = \"/root/.cache/kagglehub/datasets/sriharshaeedala/financial-fraud-detection-dataset/versions/1\"\n",
        "print(\"Files in dataset directory:\", os.listdir(dataset_dir))\n",
        "\n",
        "# Find the actual data file (CSV, Excel, etc.)\n",
        "\n",
        "path = os.path.join(dataset_dir, \"Synthetic_Financial_datasets_log.csv\")  # Adjust filename\n",
        "\n",
        "# Load into DataFrame\n",
        "df = pd.read_csv(path)  # Use pd.read_excel() for Excel files\n",
        "\n",
        "df.head()"
      ],
      "metadata": {
        "colab": {
          "base_uri": "https://localhost:8080/",
          "height": 224
        },
        "id": "u8nQbY8vJA-o",
        "outputId": "e3c40df1-c26d-433b-e0e8-9e92fdab6646"
      },
      "execution_count": 2,
      "outputs": [
        {
          "output_type": "stream",
          "name": "stdout",
          "text": [
            "Files in dataset directory: ['Synthetic_Financial_datasets_log.csv']\n"
          ]
        },
        {
          "output_type": "execute_result",
          "data": {
            "text/plain": [
              "   step      type    amount     nameOrig  oldbalanceOrg  newbalanceOrig  \\\n",
              "0     1   PAYMENT   9839.64  C1231006815       170136.0       160296.36   \n",
              "1     1   PAYMENT   1864.28  C1666544295        21249.0        19384.72   \n",
              "2     1  TRANSFER    181.00  C1305486145          181.0            0.00   \n",
              "3     1  CASH_OUT    181.00   C840083671          181.0            0.00   \n",
              "4     1   PAYMENT  11668.14  C2048537720        41554.0        29885.86   \n",
              "\n",
              "      nameDest  oldbalanceDest  newbalanceDest  isFraud  isFlaggedFraud  \n",
              "0  M1979787155             0.0             0.0        0               0  \n",
              "1  M2044282225             0.0             0.0        0               0  \n",
              "2   C553264065             0.0             0.0        1               0  \n",
              "3    C38997010         21182.0             0.0        1               0  \n",
              "4  M1230701703             0.0             0.0        0               0  "
            ],
            "text/html": [
              "\n",
              "  <div id=\"df-024da959-1cd7-470d-b576-bcd1926fa411\" class=\"colab-df-container\">\n",
              "    <div>\n",
              "<style scoped>\n",
              "    .dataframe tbody tr th:only-of-type {\n",
              "        vertical-align: middle;\n",
              "    }\n",
              "\n",
              "    .dataframe tbody tr th {\n",
              "        vertical-align: top;\n",
              "    }\n",
              "\n",
              "    .dataframe thead th {\n",
              "        text-align: right;\n",
              "    }\n",
              "</style>\n",
              "<table border=\"1\" class=\"dataframe\">\n",
              "  <thead>\n",
              "    <tr style=\"text-align: right;\">\n",
              "      <th></th>\n",
              "      <th>step</th>\n",
              "      <th>type</th>\n",
              "      <th>amount</th>\n",
              "      <th>nameOrig</th>\n",
              "      <th>oldbalanceOrg</th>\n",
              "      <th>newbalanceOrig</th>\n",
              "      <th>nameDest</th>\n",
              "      <th>oldbalanceDest</th>\n",
              "      <th>newbalanceDest</th>\n",
              "      <th>isFraud</th>\n",
              "      <th>isFlaggedFraud</th>\n",
              "    </tr>\n",
              "  </thead>\n",
              "  <tbody>\n",
              "    <tr>\n",
              "      <th>0</th>\n",
              "      <td>1</td>\n",
              "      <td>PAYMENT</td>\n",
              "      <td>9839.64</td>\n",
              "      <td>C1231006815</td>\n",
              "      <td>170136.0</td>\n",
              "      <td>160296.36</td>\n",
              "      <td>M1979787155</td>\n",
              "      <td>0.0</td>\n",
              "      <td>0.0</td>\n",
              "      <td>0</td>\n",
              "      <td>0</td>\n",
              "    </tr>\n",
              "    <tr>\n",
              "      <th>1</th>\n",
              "      <td>1</td>\n",
              "      <td>PAYMENT</td>\n",
              "      <td>1864.28</td>\n",
              "      <td>C1666544295</td>\n",
              "      <td>21249.0</td>\n",
              "      <td>19384.72</td>\n",
              "      <td>M2044282225</td>\n",
              "      <td>0.0</td>\n",
              "      <td>0.0</td>\n",
              "      <td>0</td>\n",
              "      <td>0</td>\n",
              "    </tr>\n",
              "    <tr>\n",
              "      <th>2</th>\n",
              "      <td>1</td>\n",
              "      <td>TRANSFER</td>\n",
              "      <td>181.00</td>\n",
              "      <td>C1305486145</td>\n",
              "      <td>181.0</td>\n",
              "      <td>0.00</td>\n",
              "      <td>C553264065</td>\n",
              "      <td>0.0</td>\n",
              "      <td>0.0</td>\n",
              "      <td>1</td>\n",
              "      <td>0</td>\n",
              "    </tr>\n",
              "    <tr>\n",
              "      <th>3</th>\n",
              "      <td>1</td>\n",
              "      <td>CASH_OUT</td>\n",
              "      <td>181.00</td>\n",
              "      <td>C840083671</td>\n",
              "      <td>181.0</td>\n",
              "      <td>0.00</td>\n",
              "      <td>C38997010</td>\n",
              "      <td>21182.0</td>\n",
              "      <td>0.0</td>\n",
              "      <td>1</td>\n",
              "      <td>0</td>\n",
              "    </tr>\n",
              "    <tr>\n",
              "      <th>4</th>\n",
              "      <td>1</td>\n",
              "      <td>PAYMENT</td>\n",
              "      <td>11668.14</td>\n",
              "      <td>C2048537720</td>\n",
              "      <td>41554.0</td>\n",
              "      <td>29885.86</td>\n",
              "      <td>M1230701703</td>\n",
              "      <td>0.0</td>\n",
              "      <td>0.0</td>\n",
              "      <td>0</td>\n",
              "      <td>0</td>\n",
              "    </tr>\n",
              "  </tbody>\n",
              "</table>\n",
              "</div>\n",
              "    <div class=\"colab-df-buttons\">\n",
              "\n",
              "  <div class=\"colab-df-container\">\n",
              "    <button class=\"colab-df-convert\" onclick=\"convertToInteractive('df-024da959-1cd7-470d-b576-bcd1926fa411')\"\n",
              "            title=\"Convert this dataframe to an interactive table.\"\n",
              "            style=\"display:none;\">\n",
              "\n",
              "  <svg xmlns=\"http://www.w3.org/2000/svg\" height=\"24px\" viewBox=\"0 -960 960 960\">\n",
              "    <path d=\"M120-120v-720h720v720H120Zm60-500h600v-160H180v160Zm220 220h160v-160H400v160Zm0 220h160v-160H400v160ZM180-400h160v-160H180v160Zm440 0h160v-160H620v160ZM180-180h160v-160H180v160Zm440 0h160v-160H620v160Z\"/>\n",
              "  </svg>\n",
              "    </button>\n",
              "\n",
              "  <style>\n",
              "    .colab-df-container {\n",
              "      display:flex;\n",
              "      gap: 12px;\n",
              "    }\n",
              "\n",
              "    .colab-df-convert {\n",
              "      background-color: #E8F0FE;\n",
              "      border: none;\n",
              "      border-radius: 50%;\n",
              "      cursor: pointer;\n",
              "      display: none;\n",
              "      fill: #1967D2;\n",
              "      height: 32px;\n",
              "      padding: 0 0 0 0;\n",
              "      width: 32px;\n",
              "    }\n",
              "\n",
              "    .colab-df-convert:hover {\n",
              "      background-color: #E2EBFA;\n",
              "      box-shadow: 0px 1px 2px rgba(60, 64, 67, 0.3), 0px 1px 3px 1px rgba(60, 64, 67, 0.15);\n",
              "      fill: #174EA6;\n",
              "    }\n",
              "\n",
              "    .colab-df-buttons div {\n",
              "      margin-bottom: 4px;\n",
              "    }\n",
              "\n",
              "    [theme=dark] .colab-df-convert {\n",
              "      background-color: #3B4455;\n",
              "      fill: #D2E3FC;\n",
              "    }\n",
              "\n",
              "    [theme=dark] .colab-df-convert:hover {\n",
              "      background-color: #434B5C;\n",
              "      box-shadow: 0px 1px 3px 1px rgba(0, 0, 0, 0.15);\n",
              "      filter: drop-shadow(0px 1px 2px rgba(0, 0, 0, 0.3));\n",
              "      fill: #FFFFFF;\n",
              "    }\n",
              "  </style>\n",
              "\n",
              "    <script>\n",
              "      const buttonEl =\n",
              "        document.querySelector('#df-024da959-1cd7-470d-b576-bcd1926fa411 button.colab-df-convert');\n",
              "      buttonEl.style.display =\n",
              "        google.colab.kernel.accessAllowed ? 'block' : 'none';\n",
              "\n",
              "      async function convertToInteractive(key) {\n",
              "        const element = document.querySelector('#df-024da959-1cd7-470d-b576-bcd1926fa411');\n",
              "        const dataTable =\n",
              "          await google.colab.kernel.invokeFunction('convertToInteractive',\n",
              "                                                    [key], {});\n",
              "        if (!dataTable) return;\n",
              "\n",
              "        const docLinkHtml = 'Like what you see? Visit the ' +\n",
              "          '<a target=\"_blank\" href=https://colab.research.google.com/notebooks/data_table.ipynb>data table notebook</a>'\n",
              "          + ' to learn more about interactive tables.';\n",
              "        element.innerHTML = '';\n",
              "        dataTable['output_type'] = 'display_data';\n",
              "        await google.colab.output.renderOutput(dataTable, element);\n",
              "        const docLink = document.createElement('div');\n",
              "        docLink.innerHTML = docLinkHtml;\n",
              "        element.appendChild(docLink);\n",
              "      }\n",
              "    </script>\n",
              "  </div>\n",
              "\n",
              "\n",
              "<div id=\"df-e27a015f-0dd7-40f0-b06c-24d6dc33a8ad\">\n",
              "  <button class=\"colab-df-quickchart\" onclick=\"quickchart('df-e27a015f-0dd7-40f0-b06c-24d6dc33a8ad')\"\n",
              "            title=\"Suggest charts\"\n",
              "            style=\"display:none;\">\n",
              "\n",
              "<svg xmlns=\"http://www.w3.org/2000/svg\" height=\"24px\"viewBox=\"0 0 24 24\"\n",
              "     width=\"24px\">\n",
              "    <g>\n",
              "        <path d=\"M19 3H5c-1.1 0-2 .9-2 2v14c0 1.1.9 2 2 2h14c1.1 0 2-.9 2-2V5c0-1.1-.9-2-2-2zM9 17H7v-7h2v7zm4 0h-2V7h2v10zm4 0h-2v-4h2v4z\"/>\n",
              "    </g>\n",
              "</svg>\n",
              "  </button>\n",
              "\n",
              "<style>\n",
              "  .colab-df-quickchart {\n",
              "      --bg-color: #E8F0FE;\n",
              "      --fill-color: #1967D2;\n",
              "      --hover-bg-color: #E2EBFA;\n",
              "      --hover-fill-color: #174EA6;\n",
              "      --disabled-fill-color: #AAA;\n",
              "      --disabled-bg-color: #DDD;\n",
              "  }\n",
              "\n",
              "  [theme=dark] .colab-df-quickchart {\n",
              "      --bg-color: #3B4455;\n",
              "      --fill-color: #D2E3FC;\n",
              "      --hover-bg-color: #434B5C;\n",
              "      --hover-fill-color: #FFFFFF;\n",
              "      --disabled-bg-color: #3B4455;\n",
              "      --disabled-fill-color: #666;\n",
              "  }\n",
              "\n",
              "  .colab-df-quickchart {\n",
              "    background-color: var(--bg-color);\n",
              "    border: none;\n",
              "    border-radius: 50%;\n",
              "    cursor: pointer;\n",
              "    display: none;\n",
              "    fill: var(--fill-color);\n",
              "    height: 32px;\n",
              "    padding: 0;\n",
              "    width: 32px;\n",
              "  }\n",
              "\n",
              "  .colab-df-quickchart:hover {\n",
              "    background-color: var(--hover-bg-color);\n",
              "    box-shadow: 0 1px 2px rgba(60, 64, 67, 0.3), 0 1px 3px 1px rgba(60, 64, 67, 0.15);\n",
              "    fill: var(--button-hover-fill-color);\n",
              "  }\n",
              "\n",
              "  .colab-df-quickchart-complete:disabled,\n",
              "  .colab-df-quickchart-complete:disabled:hover {\n",
              "    background-color: var(--disabled-bg-color);\n",
              "    fill: var(--disabled-fill-color);\n",
              "    box-shadow: none;\n",
              "  }\n",
              "\n",
              "  .colab-df-spinner {\n",
              "    border: 2px solid var(--fill-color);\n",
              "    border-color: transparent;\n",
              "    border-bottom-color: var(--fill-color);\n",
              "    animation:\n",
              "      spin 1s steps(1) infinite;\n",
              "  }\n",
              "\n",
              "  @keyframes spin {\n",
              "    0% {\n",
              "      border-color: transparent;\n",
              "      border-bottom-color: var(--fill-color);\n",
              "      border-left-color: var(--fill-color);\n",
              "    }\n",
              "    20% {\n",
              "      border-color: transparent;\n",
              "      border-left-color: var(--fill-color);\n",
              "      border-top-color: var(--fill-color);\n",
              "    }\n",
              "    30% {\n",
              "      border-color: transparent;\n",
              "      border-left-color: var(--fill-color);\n",
              "      border-top-color: var(--fill-color);\n",
              "      border-right-color: var(--fill-color);\n",
              "    }\n",
              "    40% {\n",
              "      border-color: transparent;\n",
              "      border-right-color: var(--fill-color);\n",
              "      border-top-color: var(--fill-color);\n",
              "    }\n",
              "    60% {\n",
              "      border-color: transparent;\n",
              "      border-right-color: var(--fill-color);\n",
              "    }\n",
              "    80% {\n",
              "      border-color: transparent;\n",
              "      border-right-color: var(--fill-color);\n",
              "      border-bottom-color: var(--fill-color);\n",
              "    }\n",
              "    90% {\n",
              "      border-color: transparent;\n",
              "      border-bottom-color: var(--fill-color);\n",
              "    }\n",
              "  }\n",
              "</style>\n",
              "\n",
              "  <script>\n",
              "    async function quickchart(key) {\n",
              "      const quickchartButtonEl =\n",
              "        document.querySelector('#' + key + ' button');\n",
              "      quickchartButtonEl.disabled = true;  // To prevent multiple clicks.\n",
              "      quickchartButtonEl.classList.add('colab-df-spinner');\n",
              "      try {\n",
              "        const charts = await google.colab.kernel.invokeFunction(\n",
              "            'suggestCharts', [key], {});\n",
              "      } catch (error) {\n",
              "        console.error('Error during call to suggestCharts:', error);\n",
              "      }\n",
              "      quickchartButtonEl.classList.remove('colab-df-spinner');\n",
              "      quickchartButtonEl.classList.add('colab-df-quickchart-complete');\n",
              "    }\n",
              "    (() => {\n",
              "      let quickchartButtonEl =\n",
              "        document.querySelector('#df-e27a015f-0dd7-40f0-b06c-24d6dc33a8ad button');\n",
              "      quickchartButtonEl.style.display =\n",
              "        google.colab.kernel.accessAllowed ? 'block' : 'none';\n",
              "    })();\n",
              "  </script>\n",
              "</div>\n",
              "\n",
              "    </div>\n",
              "  </div>\n"
            ],
            "application/vnd.google.colaboratory.intrinsic+json": {
              "type": "dataframe",
              "variable_name": "df"
            }
          },
          "metadata": {},
          "execution_count": 2
        }
      ]
    },
    {
      "cell_type": "markdown",
      "source": [
        "For the purpose of this project, I would make use of only 500,000 rows of the data. However, I will include all the rows that are tagged as fraud in the 500,000 rows I will be using."
      ],
      "metadata": {
        "id": "JEJRdXo_JTKx"
      }
    },
    {
      "cell_type": "code",
      "source": [
        "# Separate fraud and non-fraud\n",
        "fraud_df = df[df['isFraud'] == 1]\n",
        "non_fraud_df = df[df['isFraud'] == 0]\n",
        "\n",
        "# Get number of fraud rows\n",
        "num_fraud = len(fraud_df)\n",
        "\n",
        "\n",
        "num_to_sample = 500000 - num_fraud\n",
        "non_fraud_sample = non_fraud_df.sample(n=num_to_sample, random_state=42)\n",
        "\n",
        "# Combine both\n",
        "fd_df = pd.concat([fraud_df, non_fraud_sample], ignore_index=True)\n",
        "\n",
        "# Optional: shuffle the final dataset\n",
        "fd_df = fd_df.sample(frac=1, random_state=42).reset_index(drop=True)"
      ],
      "metadata": {
        "id": "n0BBc7ihJSeP"
      },
      "execution_count": 3,
      "outputs": []
    },
    {
      "cell_type": "code",
      "source": [
        "#Look through the contents of the dataset. Check for missing and null values\n",
        "\n",
        "fd_df.info()"
      ],
      "metadata": {
        "colab": {
          "base_uri": "https://localhost:8080/"
        },
        "id": "WwG_7n00J8tK",
        "outputId": "37e8664f-63fd-450d-d6c0-e2f940d685f0",
        "collapsed": true
      },
      "execution_count": 4,
      "outputs": [
        {
          "output_type": "stream",
          "name": "stdout",
          "text": [
            "<class 'pandas.core.frame.DataFrame'>\n",
            "RangeIndex: 500000 entries, 0 to 499999\n",
            "Data columns (total 11 columns):\n",
            " #   Column          Non-Null Count   Dtype  \n",
            "---  ------          --------------   -----  \n",
            " 0   step            500000 non-null  int64  \n",
            " 1   type            500000 non-null  object \n",
            " 2   amount          500000 non-null  float64\n",
            " 3   nameOrig        500000 non-null  object \n",
            " 4   oldbalanceOrg   500000 non-null  float64\n",
            " 5   newbalanceOrig  500000 non-null  float64\n",
            " 6   nameDest        500000 non-null  object \n",
            " 7   oldbalanceDest  500000 non-null  float64\n",
            " 8   newbalanceDest  500000 non-null  float64\n",
            " 9   isFraud         500000 non-null  int64  \n",
            " 10  isFlaggedFraud  500000 non-null  int64  \n",
            "dtypes: float64(5), int64(3), object(3)\n",
            "memory usage: 42.0+ MB\n"
          ]
        }
      ]
    },
    {
      "cell_type": "code",
      "source": [
        "# Total missing values per column\n",
        "print(fd_df.isnull().sum())"
      ],
      "metadata": {
        "colab": {
          "base_uri": "https://localhost:8080/"
        },
        "id": "2xb1X6qrLIw6",
        "outputId": "af85e0ab-3b55-4338-ee9b-36fcc465834c"
      },
      "execution_count": 5,
      "outputs": [
        {
          "output_type": "stream",
          "name": "stdout",
          "text": [
            "step              0\n",
            "type              0\n",
            "amount            0\n",
            "nameOrig          0\n",
            "oldbalanceOrg     0\n",
            "newbalanceOrig    0\n",
            "nameDest          0\n",
            "oldbalanceDest    0\n",
            "newbalanceDest    0\n",
            "isFraud           0\n",
            "isFlaggedFraud    0\n",
            "dtype: int64\n"
          ]
        }
      ]
    },
    {
      "cell_type": "code",
      "source": [
        "#Next, we check the statistics of the data, ensuring we look at numerical and non-numerical dataset\n",
        "\n",
        "# Numerical columns\n",
        "print(fd_df.describe())  # Mean, min, max, etc.\n",
        "\n",
        "# Categorical columns\n",
        "print(fd_df.describe(include='object'))  # Counts, unique values"
      ],
      "metadata": {
        "colab": {
          "base_uri": "https://localhost:8080/"
        },
        "id": "VRRrNxD9KLKk",
        "outputId": "b0d8c8e2-df6e-47f4-a966-d094c12554ba"
      },
      "execution_count": 6,
      "outputs": [
        {
          "output_type": "stream",
          "name": "stdout",
          "text": [
            "                step        amount  oldbalanceOrg  newbalanceOrig  \\\n",
            "count  500000.000000  5.000000e+05   5.000000e+05    5.000000e+05   \n",
            "mean      245.482400  1.998823e+05   8.492884e+05    8.482228e+05   \n",
            "std       144.530584  6.818953e+05   2.906360e+06    2.918419e+06   \n",
            "min         1.000000  0.000000e+00   0.000000e+00    0.000000e+00   \n",
            "25%       156.000000  1.376301e+04   0.000000e+00    0.000000e+00   \n",
            "50%       249.000000  7.741422e+04   1.508495e+04    0.000000e+00   \n",
            "75%       346.000000  2.134742e+05   1.168425e+05    1.391233e+05   \n",
            "max       743.000000  6.988673e+07   5.958504e+07    4.958504e+07   \n",
            "\n",
            "       oldbalanceDest  newbalanceDest        isFraud  isFlaggedFraud  \n",
            "count    5.000000e+05    5.000000e+05  500000.000000   500000.000000  \n",
            "mean     1.100610e+06    1.234317e+06       0.016426        0.000032  \n",
            "std      3.475024e+06    3.740286e+06       0.127107        0.005657  \n",
            "min      0.000000e+00    0.000000e+00       0.000000        0.000000  \n",
            "25%      0.000000e+00    0.000000e+00       0.000000        0.000000  \n",
            "50%      1.272434e+05    2.137421e+05       0.000000        0.000000  \n",
            "75%      9.386182e+05    1.119293e+06       0.000000        0.000000  \n",
            "max      3.551855e+08    3.553805e+08       1.000000        1.000000  \n",
            "            type     nameOrig    nameDest\n",
            "count     500000       500000      500000\n",
            "unique         5       499945      378169\n",
            "top     CASH_OUT  C1820871729  C248609774\n",
            "freq      177133            2          12\n"
          ]
        }
      ]
    },
    {
      "cell_type": "code",
      "source": [
        "fd_df.shape"
      ],
      "metadata": {
        "colab": {
          "base_uri": "https://localhost:8080/"
        },
        "id": "hgntUfreKcdd",
        "outputId": "8879398b-5c85-49a5-d411-3cb630b943e8"
      },
      "execution_count": 7,
      "outputs": [
        {
          "output_type": "execute_result",
          "data": {
            "text/plain": [
              "(500000, 11)"
            ]
          },
          "metadata": {},
          "execution_count": 7
        }
      ]
    },
    {
      "cell_type": "markdown",
      "source": [
        "**STEP 2: DATA PREPROCESSING**\n"
      ],
      "metadata": {
        "id": "CnMBs85LLd0w"
      }
    },
    {
      "cell_type": "code",
      "source": [
        "import seaborn as sns\n",
        "import matplotlib.pyplot as plt\n",
        "\n",
        "numeric_columns = ['step','amount', 'oldbalanceOrg', 'newbalanceOrig', 'oldbalanceDest', 'newbalanceDest']\n",
        "\n",
        "# Create a custom function for plotting boxplots for each numerical column\n",
        "def boxplots_custom(dataset, columns_list, suptitle):\n",
        "    num_columns = len(columns_list)\n",
        "    cols = 3\n",
        "    rows = (num_columns // cols) + (num_columns % cols > 0)\n",
        "    # Create subplots\n",
        "    fig, axs = plt.subplots(rows, cols, figsize=(16, rows * 5))\n",
        "    fig.suptitle(suptitle, y=1, size=25)\n",
        "    axs = axs.flatten()\n",
        "\n",
        "    #Plot boxplots for each column\n",
        "    for i, data in enumerate(columns_list):\n",
        "        sns.boxplot(data=dataset[data], orient='h', ax=axs[i])\n",
        "        skewness = dataset[data].skew()\n",
        "        axs[i].set_title(f\"{data}, skewness: {round(skewness, 2)}\")\n",
        "\n",
        "    for i in range(num_columns, len(axs)):\n",
        "        fig.delaxes(axs[i])\n",
        "\n",
        "\n",
        "    plt.tight_layout()\n",
        "\n",
        "\n",
        "boxplots_custom(dataset=fd_df, columns_list=numeric_columns, suptitle='Boxplots for Each Numerical Variable')\n"
      ],
      "metadata": {
        "colab": {
          "base_uri": "https://localhost:8080/",
          "height": 827
        },
        "id": "W7egwnJnLCb9",
        "outputId": "3f998336-04ca-4c6c-88e7-668d887a1caf",
        "collapsed": true
      },
      "execution_count": 8,
      "outputs": [
        {
          "output_type": "display_data",
          "data": {
            "text/plain": [
              "<Figure size 1600x1000 with 6 Axes>"
            ],
            "image/png": "[encoded data removed]"
          },
          "metadata": {}
        }
      ]
    },
    {
      "cell_type": "code",
      "source": [
        "import matplotlib.pyplot as plt\n",
        "\n",
        "# Count the occurrences of each type in the 'type' column\n",
        "type_counts = fd_df['type'].value_counts()\n",
        "\n",
        "# Plot a pie chart\n",
        "plt.figure(figsize=(8, 8))\n",
        "plt.pie(type_counts, labels=type_counts.index, autopct='%1.1f%%', startangle=90, colors=['#66b3ff', '#99ff99', '#ffcc99', '#ff6666', '#c2c2f0'])\n",
        "plt.title('Distribution of Transaction Types', size=15)\n",
        "plt.axis('equal')\n",
        "plt.show()\n"
      ],
      "metadata": {
        "colab": {
          "base_uri": "https://localhost:8080/",
          "height": 683
        },
        "id": "UgTu-NpaL4HD",
        "outputId": "1d9c7e64-ae49-4b4d-8d73-183d39767d15",
        "collapsed": true
      },
      "execution_count": 9,
      "outputs": [
        {
          "output_type": "display_data",
          "data": {
            "text/plain": [
              "<Figure size 800x800 with 1 Axes>"
            ],
            "image/png": "[encoded data removed]"
          },
          "metadata": {}
        }
      ]
    },
    {
      "cell_type": "code",
      "source": [
        "import matplotlib.pyplot as plt\n",
        "import pandas as pd\n",
        "\n",
        "# Group by 'type' and 'isFraud' and get the count\n",
        "type_fraud_counts = fd_df.groupby(['type', 'isFraud']).size().reset_index(name='count')\n",
        "\n",
        "# Set the figure size\n",
        "plt.figure(figsize=(10, 6))\n",
        "\n",
        "\n",
        "type_fraud_counts['color'] = type_fraud_counts['isFraud'].map({0: 'green', 1: 'red'})\n",
        "\n",
        "# Plot the bar chart\n",
        "bars = plt.bar(type_fraud_counts[type_fraud_counts['isFraud'] == 0]['type'],\n",
        "               type_fraud_counts[type_fraud_counts['isFraud'] == 0]['count'],\n",
        "               color='green', label='Not Fraud', width=0.4, align='center')\n",
        "\n",
        "bars2 = plt.bar(type_fraud_counts[type_fraud_counts['isFraud'] == 1]['type'],\n",
        "                type_fraud_counts[type_fraud_counts['isFraud'] == 1]['count'],\n",
        "                color='red', label='Fraud', width=0.4, align='edge')\n",
        "\n",
        "# Add labels to the bars\n",
        "for bar in bars:\n",
        "    height = bar.get_height()\n",
        "    plt.text(bar.get_x() + bar.get_width() / 2., height, str(int(height)), ha='center', va='bottom', fontsize=10)\n",
        "\n",
        "for bar in bars2:\n",
        "    height = bar.get_height()\n",
        "    plt.text(bar.get_x() + bar.get_width() / 2., height, str(int(height)), ha='center', va='bottom', fontsize=10)\n",
        "\n",
        "# Set chart title and labels\n",
        "plt.title('Transaction Types vs Fraudulent Transactions', size=15)\n",
        "plt.xlabel('Transaction Type', size=12)\n",
        "plt.ylabel('Count', size=12)\n",
        "\n",
        "plt.legend()\n",
        "plt.xticks(rotation=45)\n",
        "plt.tight_layout()\n",
        "plt.show()"
      ],
      "metadata": {
        "colab": {
          "base_uri": "https://localhost:8080/",
          "height": 607
        },
        "id": "2GmNKZUWL4Kd",
        "outputId": "1ebf5a92-e404-42f4-bf1b-0b9531050cd7",
        "collapsed": true
      },
      "execution_count": 10,
      "outputs": [
        {
          "output_type": "display_data",
          "data": {
            "text/plain": [
              "<Figure size 1000x600 with 1 Axes>"
            ],
            "image/png": "[encoded data removed]"
          },
          "metadata": {}
        }
      ]
    },
    {
      "cell_type": "markdown",
      "source": [
        "Based on the visualisations above, we take naote of the following key observations;\n",
        "\n",
        "We have outliers, however due to the nature of our analysis, we will not be removing the outliers because they could be potential fraud.\n",
        "\n",
        "Fraud only occurs in TRANSFER and CASH_OUT transactions.\n",
        "\n",
        "TRANSFER has the highest fraud rate (~2.3%) relative to its total count.\n",
        "\n",
        "Even though PAYMENT is very common, no frauds are reported in this category making it the safest type.\n",
        "\n",
        "DEBIT and CASH_IN are also fraud-free in this dataset.\n",
        "\n",
        "The overall fraud rate is low (~1.6%), but targeted suggesting that fraudsters are selective and prefer channels where funds can be quickly moved or withdrawn."
      ],
      "metadata": {
        "id": "EBfczghoOPf2"
      }
    },
    {
      "cell_type": "markdown",
      "source": [
        "**STEP 3: FEATURE SELECTION & FEATURE ENGINEERING**\n",
        "\n",
        "Here, we will make use of Statistical analysis ANOVA and Chi-Square tests to select features:\n",
        "\n",
        "The ANOVA test evaluates whether there are statistically significant differences in the means of a continuous feature across different categories of a categorical target variable. It helps identify features that best distinguish between classes.\n",
        "\n",
        "The Chi-Square test measures the dependence or association between two categorical variables. In feature selection, it evaluates whether there is a significant relationship between each feature (categorical) and the target variable (also categorical)."
      ],
      "metadata": {
        "id": "sbjZYr8CQO6u"
      }
    },
    {
      "cell_type": "code",
      "source": [
        "from scipy.stats import chi2_contingency, f_oneway\n",
        "\n",
        "def chi_square_test(fd_df, categorical_features, target_variable):\n",
        "    chi2_results = {}\n",
        "    for feature in categorical_features:\n",
        "        # Create a contingency table between the feature and target variable\n",
        "        contingency_table = pd.crosstab(fd_df[feature], fd_df[target_variable])\n",
        "\n",
        "        # Perform Chi-square test\n",
        "        chi2, p, _, _ = chi2_contingency(contingency_table)\n",
        "\n",
        "        # Store the results (chi2 statistic and p-value)\n",
        "        chi2_results[feature] = {'chi2': chi2, 'p_value': p}\n",
        "\n",
        "    return chi2_results\n",
        "\n",
        "\n",
        "def f_test(fd_df, continuous_features, target_variable):\n",
        "    f_test_results = {}\n",
        "    for feature in continuous_features:\n",
        "        # Group data by target variable and perform One-way ANOVA (F-test)\n",
        "        group_0 = fd_df[fd_df[target_variable] == 0][feature]  # Group for non-fraud (isFraud == 0)\n",
        "        group_1 = fd_df[fd_df[target_variable] == 1][feature]  # Group for fraud (isFraud == 1)\n",
        "\n",
        "        # Perform One-way ANOVA (F-test)\n",
        "        f_stat, p_value = f_oneway(group_0, group_1)\n",
        "\n",
        "        # Store the results (F-statistic and p-value)\n",
        "        f_test_results[feature] = {'F_stat': f_stat, 'p_value': p_value}\n",
        "\n",
        "    return f_test_results\n",
        "\n",
        "\n",
        "categorical_features = ['type', 'nameOrig', 'nameDest', 'isFlaggedFraud']\n",
        "continuous_features = ['step','amount', 'oldbalanceOrg', 'newbalanceOrig', 'oldbalanceDest', 'newbalanceDest']\n",
        "\n",
        "# Chi-square test for categorical features\n",
        "chi2_results = chi_square_test(fd_df, categorical_features=categorical_features, target_variable='isFraud')\n",
        "\n",
        "# One-way ANOVA (F-test) for continuous features\n",
        "f_test_results = f_test(fd_df, continuous_features=continuous_features, target_variable='isFraud')\n",
        "\n",
        "# Print results\n",
        "print(\"Chi-Square Test Results:\")\n",
        "print(chi2_results)\n",
        "\n",
        "print(\"\\nOne-way ANOVA (F-test) Results:\")\n",
        "print(f_test_results)"
      ],
      "metadata": {
        "colab": {
          "base_uri": "https://localhost:8080/"
        },
        "id": "-9p9ogsVQE-f",
        "outputId": "7b0d39e5-6a27-4808-eb9c-23e78ec0871d"
      },
      "execution_count": 11,
      "outputs": [
        {
          "output_type": "stream",
          "name": "stdout",
          "text": [
            "Chi-Square Test Results:\n",
            "{'type': {'chi2': np.float64(20601.10827936858), 'p_value': np.float64(0.0)}, 'nameOrig': {'chi2': np.float64(499969.0521027808), 'p_value': np.float64(0.4897404200139675)}, 'nameDest': {'chi2': np.float64(407192.5124695916), 'p_value': np.float64(8.283702429120022e-233)}, 'isFlaggedFraud': {'chi2': np.float64(898.1822754071076), 'p_value': np.float64(2.437657342094466e-197)}}\n",
            "\n",
            "One-way ANOVA (F-test) Results:\n",
            "{'step': {'F_stat': np.float64(6114.760740725651), 'p_value': np.float64(0.0)}, 'amount': {'F_stat': np.float64(30647.225584608903), 'p_value': np.float64(0.0)}, 'oldbalanceOrg': {'F_stat': np.float64(634.0700615432177), 'p_value': np.float64(7.963963777668632e-140)}, 'newbalanceOrig': {'F_stat': np.float64(422.03439085126354), 'p_value': np.float64(9.626706038359167e-94)}, 'oldbalanceDest': {'F_stat': np.float64(214.1292774424113), 'p_value': np.float64(1.7662885488786805e-48)}, 'newbalanceDest': {'F_stat': np.float64(1.2297411596366972), 'p_value': np.float64(0.26745791567731275)}}\n"
          ]
        }
      ]
    },
    {
      "cell_type": "markdown",
      "source": [
        "Note: A good p-value is from 0.05 to 0 i.e the closer to 0, the better. Then, the interpretation of the F-statistic and the Chi-square values should be done in conjunction with the p-values, the higher their values, the better.\n",
        "\n",
        "Based on the statistical analysis above, we will make use of the step, isFlaggedFraud, type, amount, newbalanceOrig, oldbalanceDest, and oldbalanceOrg columns for our analysis."
      ],
      "metadata": {
        "id": "vd8hzBDvQgcA"
      }
    },
    {
      "cell_type": "code",
      "source": [
        "# One-hot encode the 'type' column\n",
        "fd_onehot= pd.get_dummies(fd_df, columns=[\"type\"])\n",
        "fd_onehot.head()"
      ],
      "metadata": {
        "colab": {
          "base_uri": "https://localhost:8080/",
          "height": 226
        },
        "id": "osgTfdLfQeh6",
        "outputId": "632d5bfa-3e39-4287-bdc0-e6541893bf09"
      },
      "execution_count": 12,
      "outputs": [
        {
          "output_type": "execute_result",
          "data": {
            "text/plain": [
              "   step     amount     nameOrig  oldbalanceOrg  newbalanceOrig     nameDest  \\\n",
              "0    21  190113.45  C2045692692            0.0            0.00  C1569819494   \n",
              "1    44   38137.71  C1435885363        93155.0       131292.71   C499505383   \n",
              "2   284   16742.91   C171790979            0.0            0.00  C1713137232   \n",
              "3   188  158682.18  C1442293701       199211.0        40528.82   C641213606   \n",
              "4   426    5604.37    C12314025            0.0            0.00   M501760897   \n",
              "\n",
              "   oldbalanceDest  newbalanceDest  isFraud  isFlaggedFraud  type_CASH_IN  \\\n",
              "0       251102.85       441216.30        0               0         False   \n",
              "1            0.00            0.00        0               0          True   \n",
              "2        87707.39       104450.30        0               0         False   \n",
              "3            0.00       158682.18        0               0         False   \n",
              "4            0.00            0.00        0               0         False   \n",
              "\n",
              "   type_CASH_OUT  type_DEBIT  type_PAYMENT  type_TRANSFER  \n",
              "0           True       False         False          False  \n",
              "1          False       False         False          False  \n",
              "2           True       False         False          False  \n",
              "3           True       False         False          False  \n",
              "4          False       False          True          False  "
            ],
            "text/html": [
              "\n",
              "  <div id=\"df-69e69afa-188c-4cbe-9967-b76089c591e6\" class=\"colab-df-container\">\n",
              "    <div>\n",
              "<style scoped>\n",
              "    .dataframe tbody tr th:only-of-type {\n",
              "        vertical-align: middle;\n",
              "    }\n",
              "\n",
              "    .dataframe tbody tr th {\n",
              "        vertical-align: top;\n",
              "    }\n",
              "\n",
              "    .dataframe thead th {\n",
              "        text-align: right;\n",
              "    }\n",
              "</style>\n",
              "<table border=\"1\" class=\"dataframe\">\n",
              "  <thead>\n",
              "    <tr style=\"text-align: right;\">\n",
              "      <th></th>\n",
              "      <th>step</th>\n",
              "      <th>amount</th>\n",
              "      <th>nameOrig</th>\n",
              "      <th>oldbalanceOrg</th>\n",
              "      <th>newbalanceOrig</th>\n",
              "      <th>nameDest</th>\n",
              "      <th>oldbalanceDest</th>\n",
              "      <th>newbalanceDest</th>\n",
              "      <th>isFraud</th>\n",
              "      <th>isFlaggedFraud</th>\n",
              "      <th>type_CASH_IN</th>\n",
              "      <th>type_CASH_OUT</th>\n",
              "      <th>type_DEBIT</th>\n",
              "      <th>type_PAYMENT</th>\n",
              "      <th>type_TRANSFER</th>\n",
              "    </tr>\n",
              "  </thead>\n",
              "  <tbody>\n",
              "    <tr>\n",
              "      <th>0</th>\n",
              "      <td>21</td>\n",
              "      <td>190113.45</td>\n",
              "      <td>C2045692692</td>\n",
              "      <td>0.0</td>\n",
              "      <td>0.00</td>\n",
              "      <td>C1569819494</td>\n",
              "      <td>251102.85</td>\n",
              "      <td>441216.30</td>\n",
              "      <td>0</td>\n",
              "      <td>0</td>\n",
              "      <td>False</td>\n",
              "      <td>True</td>\n",
              "      <td>False</td>\n",
              "      <td>False</td>\n",
              "      <td>False</td>\n",
              "    </tr>\n",
              "    <tr>\n",
              "      <th>1</th>\n",
              "      <td>44</td>\n",
              "      <td>38137.71</td>\n",
              "      <td>C1435885363</td>\n",
              "      <td>93155.0</td>\n",
              "      <td>131292.71</td>\n",
              "      <td>C499505383</td>\n",
              "      <td>0.00</td>\n",
              "      <td>0.00</td>\n",
              "      <td>0</td>\n",
              "      <td>0</td>\n",
              "      <td>True</td>\n",
              "      <td>False</td>\n",
              "      <td>False</td>\n",
              "      <td>False</td>\n",
              "      <td>False</td>\n",
              "    </tr>\n",
              "    <tr>\n",
              "      <th>2</th>\n",
              "      <td>284</td>\n",
              "      <td>16742.91</td>\n",
              "      <td>C171790979</td>\n",
              "      <td>0.0</td>\n",
              "      <td>0.00</td>\n",
              "      <td>C1713137232</td>\n",
              "      <td>87707.39</td>\n",
              "      <td>104450.30</td>\n",
              "      <td>0</td>\n",
              "      <td>0</td>\n",
              "      <td>False</td>\n",
              "      <td>True</td>\n",
              "      <td>False</td>\n",
              "      <td>False</td>\n",
              "      <td>False</td>\n",
              "    </tr>\n",
              "    <tr>\n",
              "      <th>3</th>\n",
              "      <td>188</td>\n",
              "      <td>158682.18</td>\n",
              "      <td>C1442293701</td>\n",
              "      <td>199211.0</td>\n",
              "      <td>40528.82</td>\n",
              "      <td>C641213606</td>\n",
              "      <td>0.00</td>\n",
              "      <td>158682.18</td>\n",
              "      <td>0</td>\n",
              "      <td>0</td>\n",
              "      <td>False</td>\n",
              "      <td>True</td>\n",
              "      <td>False</td>\n",
              "      <td>False</td>\n",
              "      <td>False</td>\n",
              "    </tr>\n",
              "    <tr>\n",
              "      <th>4</th>\n",
              "      <td>426</td>\n",
              "      <td>5604.37</td>\n",
              "      <td>C12314025</td>\n",
              "      <td>0.0</td>\n",
              "      <td>0.00</td>\n",
              "      <td>M501760897</td>\n",
              "      <td>0.00</td>\n",
              "      <td>0.00</td>\n",
              "      <td>0</td>\n",
              "      <td>0</td>\n",
              "      <td>False</td>\n",
              "      <td>False</td>\n",
              "      <td>False</td>\n",
              "      <td>True</td>\n",
              "      <td>False</td>\n",
              "    </tr>\n",
              "  </tbody>\n",
              "</table>\n",
              "</div>\n",
              "    <div class=\"colab-df-buttons\">\n",
              "\n",
              "  <div class=\"colab-df-container\">\n",
              "    <button class=\"colab-df-convert\" onclick=\"convertToInteractive('df-69e69afa-188c-4cbe-9967-b76089c591e6')\"\n",
              "            title=\"Convert this dataframe to an interactive table.\"\n",
              "            style=\"display:none;\">\n",
              "\n",
              "  <svg xmlns=\"http://www.w3.org/2000/svg\" height=\"24px\" viewBox=\"0 -960 960 960\">\n",
              "    <path d=\"M120-120v-720h720v720H120Zm60-500h600v-160H180v160Zm220 220h160v-160H400v160Zm0 220h160v-160H400v160ZM180-400h160v-160H180v160Zm440 0h160v-160H620v160ZM180-180h160v-160H180v160Zm440 0h160v-160H620v160Z\"/>\n",
              "  </svg>\n",
              "    </button>\n",
              "\n",
              "  <style>\n",
              "    .colab-df-container {\n",
              "      display:flex;\n",
              "      gap: 12px;\n",
              "    }\n",
              "\n",
              "    .colab-df-convert {\n",
              "      background-color: #E8F0FE;\n",
              "      border: none;\n",
              "      border-radius: 50%;\n",
              "      cursor: pointer;\n",
              "      display: none;\n",
              "      fill: #1967D2;\n",
              "      height: 32px;\n",
              "      padding: 0 0 0 0;\n",
              "      width: 32px;\n",
              "    }\n",
              "\n",
              "    .colab-df-convert:hover {\n",
              "      background-color: #E2EBFA;\n",
              "      box-shadow: 0px 1px 2px rgba(60, 64, 67, 0.3), 0px 1px 3px 1px rgba(60, 64, 67, 0.15);\n",
              "      fill: #174EA6;\n",
              "    }\n",
              "\n",
              "    .colab-df-buttons div {\n",
              "      margin-bottom: 4px;\n",
              "    }\n",
              "\n",
              "    [theme=dark] .colab-df-convert {\n",
              "      background-color: #3B4455;\n",
              "      fill: #D2E3FC;\n",
              "    }\n",
              "\n",
              "    [theme=dark] .colab-df-convert:hover {\n",
              "      background-color: #434B5C;\n",
              "      box-shadow: 0px 1px 3px 1px rgba(0, 0, 0, 0.15);\n",
              "      filter: drop-shadow(0px 1px 2px rgba(0, 0, 0, 0.3));\n",
              "      fill: #FFFFFF;\n",
              "    }\n",
              "  </style>\n",
              "\n",
              "    <script>\n",
              "      const buttonEl =\n",
              "        document.querySelector('#df-69e69afa-188c-4cbe-9967-b76089c591e6 button.colab-df-convert');\n",
              "      buttonEl.style.display =\n",
              "        google.colab.kernel.accessAllowed ? 'block' : 'none';\n",
              "\n",
              "      async function convertToInteractive(key) {\n",
              "        const element = document.querySelector('#df-69e69afa-188c-4cbe-9967-b76089c591e6');\n",
              "        const dataTable =\n",
              "          await google.colab.kernel.invokeFunction('convertToInteractive',\n",
              "                                                    [key], {});\n",
              "        if (!dataTable) return;\n",
              "\n",
              "        const docLinkHtml = 'Like what you see? Visit the ' +\n",
              "          '<a target=\"_blank\" href=https://colab.research.google.com/notebooks/data_table.ipynb>data table notebook</a>'\n",
              "          + ' to learn more about interactive tables.';\n",
              "        element.innerHTML = '';\n",
              "        dataTable['output_type'] = 'display_data';\n",
              "        await google.colab.output.renderOutput(dataTable, element);\n",
              "        const docLink = document.createElement('div');\n",
              "        docLink.innerHTML = docLinkHtml;\n",
              "        element.appendChild(docLink);\n",
              "      }\n",
              "    </script>\n",
              "  </div>\n",
              "\n",
              "\n",
              "<div id=\"df-7f63e432-29f2-4160-9d58-ea46582bdab3\">\n",
              "  <button class=\"colab-df-quickchart\" onclick=\"quickchart('df-7f63e432-29f2-4160-9d58-ea46582bdab3')\"\n",
              "            title=\"Suggest charts\"\n",
              "            style=\"display:none;\">\n",
              "\n",
              "<svg xmlns=\"http://www.w3.org/2000/svg\" height=\"24px\"viewBox=\"0 0 24 24\"\n",
              "     width=\"24px\">\n",
              "    <g>\n",
              "        <path d=\"M19 3H5c-1.1 0-2 .9-2 2v14c0 1.1.9 2 2 2h14c1.1 0 2-.9 2-2V5c0-1.1-.9-2-2-2zM9 17H7v-7h2v7zm4 0h-2V7h2v10zm4 0h-2v-4h2v4z\"/>\n",
              "    </g>\n",
              "</svg>\n",
              "  </button>\n",
              "\n",
              "<style>\n",
              "  .colab-df-quickchart {\n",
              "      --bg-color: #E8F0FE;\n",
              "      --fill-color: #1967D2;\n",
              "      --hover-bg-color: #E2EBFA;\n",
              "      --hover-fill-color: #174EA6;\n",
              "      --disabled-fill-color: #AAA;\n",
              "      --disabled-bg-color: #DDD;\n",
              "  }\n",
              "\n",
              "  [theme=dark] .colab-df-quickchart {\n",
              "      --bg-color: #3B4455;\n",
              "      --fill-color: #D2E3FC;\n",
              "      --hover-bg-color: #434B5C;\n",
              "      --hover-fill-color: #FFFFFF;\n",
              "      --disabled-bg-color: #3B4455;\n",
              "      --disabled-fill-color: #666;\n",
              "  }\n",
              "\n",
              "  .colab-df-quickchart {\n",
              "    background-color: var(--bg-color);\n",
              "    border: none;\n",
              "    border-radius: 50%;\n",
              "    cursor: pointer;\n",
              "    display: none;\n",
              "    fill: var(--fill-color);\n",
              "    height: 32px;\n",
              "    padding: 0;\n",
              "    width: 32px;\n",
              "  }\n",
              "\n",
              "  .colab-df-quickchart:hover {\n",
              "    background-color: var(--hover-bg-color);\n",
              "    box-shadow: 0 1px 2px rgba(60, 64, 67, 0.3), 0 1px 3px 1px rgba(60, 64, 67, 0.15);\n",
              "    fill: var(--button-hover-fill-color);\n",
              "  }\n",
              "\n",
              "  .colab-df-quickchart-complete:disabled,\n",
              "  .colab-df-quickchart-complete:disabled:hover {\n",
              "    background-color: var(--disabled-bg-color);\n",
              "    fill: var(--disabled-fill-color);\n",
              "    box-shadow: none;\n",
              "  }\n",
              "\n",
              "  .colab-df-spinner {\n",
              "    border: 2px solid var(--fill-color);\n",
              "    border-color: transparent;\n",
              "    border-bottom-color: var(--fill-color);\n",
              "    animation:\n",
              "      spin 1s steps(1) infinite;\n",
              "  }\n",
              "\n",
              "  @keyframes spin {\n",
              "    0% {\n",
              "      border-color: transparent;\n",
              "      border-bottom-color: var(--fill-color);\n",
              "      border-left-color: var(--fill-color);\n",
              "    }\n",
              "    20% {\n",
              "      border-color: transparent;\n",
              "      border-left-color: var(--fill-color);\n",
              "      border-top-color: var(--fill-color);\n",
              "    }\n",
              "    30% {\n",
              "      border-color: transparent;\n",
              "      border-left-color: var(--fill-color);\n",
              "      border-top-color: var(--fill-color);\n",
              "      border-right-color: var(--fill-color);\n",
              "    }\n",
              "    40% {\n",
              "      border-color: transparent;\n",
              "      border-right-color: var(--fill-color);\n",
              "      border-top-color: var(--fill-color);\n",
              "    }\n",
              "    60% {\n",
              "      border-color: transparent;\n",
              "      border-right-color: var(--fill-color);\n",
              "    }\n",
              "    80% {\n",
              "      border-color: transparent;\n",
              "      border-right-color: var(--fill-color);\n",
              "      border-bottom-color: var(--fill-color);\n",
              "    }\n",
              "    90% {\n",
              "      border-color: transparent;\n",
              "      border-bottom-color: var(--fill-color);\n",
              "    }\n",
              "  }\n",
              "</style>\n",
              "\n",
              "  <script>\n",
              "    async function quickchart(key) {\n",
              "      const quickchartButtonEl =\n",
              "        document.querySelector('#' + key + ' button');\n",
              "      quickchartButtonEl.disabled = true;  // To prevent multiple clicks.\n",
              "      quickchartButtonEl.classList.add('colab-df-spinner');\n",
              "      try {\n",
              "        const charts = await google.colab.kernel.invokeFunction(\n",
              "            'suggestCharts', [key], {});\n",
              "      } catch (error) {\n",
              "        console.error('Error during call to suggestCharts:', error);\n",
              "      }\n",
              "      quickchartButtonEl.classList.remove('colab-df-spinner');\n",
              "      quickchartButtonEl.classList.add('colab-df-quickchart-complete');\n",
              "    }\n",
              "    (() => {\n",
              "      let quickchartButtonEl =\n",
              "        document.querySelector('#df-7f63e432-29f2-4160-9d58-ea46582bdab3 button');\n",
              "      quickchartButtonEl.style.display =\n",
              "        google.colab.kernel.accessAllowed ? 'block' : 'none';\n",
              "    })();\n",
              "  </script>\n",
              "</div>\n",
              "\n",
              "    </div>\n",
              "  </div>\n"
            ],
            "application/vnd.google.colaboratory.intrinsic+json": {
              "type": "dataframe",
              "variable_name": "fd_onehot"
            }
          },
          "metadata": {},
          "execution_count": 12
        }
      ]
    },
    {
      "cell_type": "markdown",
      "source": [
        "\n",
        "Since we are dealing with a highly imbalanced dataset where the minority class accounts for approximately 2.3% of the data, it is crucial to stratify the data before splitting it into training and test sets. Stratification ensures that the percentage of the minority class in the training set is proportionally replicated in the test set, preserving the class distribution and enabling more reliable model evaluation. Additionally, to address the challenges posed by the imbalance, we will perform SMOTE (Synthetic Minority Over-sampling Technique) analysis on the training data. This approach generates synthetic samples for the minority class, balancing the dataset and enhancing the model's ability to learn patterns from the underrepresented class while maintaining the integrity of the test set for unbiased performance assessment."
      ],
      "metadata": {
        "id": "4Ufb6tBNoVhH"
      }
    },
    {
      "cell_type": "code",
      "source": [
        "pip install imbalanced-learn"
      ],
      "metadata": {
        "id": "8OqVKchRVWQs"
      },
      "execution_count": null,
      "outputs": []
    },
    {
      "cell_type": "code",
      "source": [
        "from sklearn.model_selection import train_test_split\n",
        "from sklearn.preprocessing import StandardScaler, LabelEncoder\n",
        "from imblearn.over_sampling import SMOTE\n",
        "\n",
        "# Drop Unnecessary Columns\n",
        "fd_onehot = fd_onehot.drop(columns=['nameOrig', 'nameDest','newbalanceDest'])\n",
        "\n",
        "# Split Features and Target\n",
        "X = fd_onehot.drop(columns=['isFraud'])\n",
        "y = fd_onehot['isFraud']\n",
        "\n",
        "#Train-Test Split\n",
        "X_train, X_test, y_train, y_test = train_test_split(X, y, test_size=0.2, stratify=y, random_state=42)\n",
        "\n",
        "#Normalize Features\n",
        "scaler = StandardScaler()\n",
        "X_train = scaler.fit_transform(X_train)\n",
        "X_test = scaler.transform(X_test)\n",
        "\n",
        "#Apply SMOTE for Imbalanced Data\n",
        "smote = SMOTE(sampling_strategy=0.5, random_state=42)\n",
        "X_resampled, y_resampled = smote.fit_resample(X_train, y_train)"
      ],
      "metadata": {
        "id": "gkdJi5MOUhj2"
      },
      "execution_count": 13,
      "outputs": []
    },
    {
      "cell_type": "code",
      "source": [
        "feature_names = [\n",
        "    'step', 'amount', 'oldbalanceOrg', 'newbalanceOrig',\n",
        "    'oldbalanceDest', 'isFlaggedFraud', 'type_CASH_IN',\n",
        "    'type_CASH_OUT', 'type_DEBIT', 'type_PAYMENT', 'type_TRANSFER'\n",
        "]\n",
        "\n",
        "X_test_df = pd.DataFrame(X_test, columns=feature_names)"
      ],
      "metadata": {
        "id": "h8YhRMwwjJAc"
      },
      "execution_count": 87,
      "outputs": []
    },
    {
      "cell_type": "markdown",
      "source": [
        "**STEP 4: TRAIN THE MODEL**"
      ],
      "metadata": {
        "id": "iqBtAijBWmKC"
      }
    },
    {
      "cell_type": "code",
      "source": [
        "from sklearn.ensemble import RandomForestClassifier\n",
        "from sklearn.metrics import confusion_matrix, roc_auc_score, f1_score, accuracy_score, roc_curve, auc, classification_report\n",
        "from sklearn.metrics import log_loss\n",
        "\n",
        "rf_model= RandomForestClassifier(n_estimators=100, random_state=42)\n",
        "rf_model.fit(X_resampled, y_resampled)\n",
        "\n",
        "#Evaluate Model\n",
        "y_pred_rf = rf_model.predict(X_test)\n",
        "rf_proba = rf_model.predict_proba(X_test)[:, 1]\n",
        "\n",
        "# Calculate ROC-AUC score\n",
        "roc_auc_rf = roc_auc_score(y_test, rf_model.predict_proba(X_test)[:, 1])\n",
        "\n",
        "#Compute ROC curve\n",
        "rf_fpr, rf_tpr, thresholds = roc_curve(y_test, rf_proba)\n",
        "\n",
        "# Compute AUC\n",
        "roc_auc_rf = auc(rf_fpr, rf_tpr)"
      ],
      "metadata": {
        "id": "NaA1jNhMWiEL"
      },
      "execution_count": 14,
      "outputs": []
    },
    {
      "cell_type": "code",
      "source": [
        "from xgboost import XGBClassifier\n",
        "\n",
        "# Compute the scale_pos_weight (ratio of negative to positive samples in the training set)\n",
        "scale_pos_weight = (y_train == 0).sum() / (y_train == 1).sum()\n",
        "\n",
        "# Initialize the XGBoost model\n",
        "xgb_model = XGBClassifier(\n",
        "    scale_pos_weight=scale_pos_weight,\n",
        "    random_state=42,\n",
        "    eval_metric='logloss',\n",
        "    use_label_encoder=False\n",
        ")\n",
        "\n",
        "# Train the model on the SMOTE-resampled data\n",
        "xgb_model.fit(X_resampled, y_resampled)\n",
        "\n",
        "# Evaluate on the test set\n",
        "y_pred_xgb = xgb_model.predict(X_test)\n",
        "xgb_proba = xgb_model.predict_proba(X_test)[:, 1]\n",
        "\n",
        "# Calculate ROC-AUC score\n",
        "roc_auc_xgb = roc_auc_score(y_test, xgb_model.predict_proba(X_test)[:, 1])\n",
        "\n",
        "#Compute ROC curve\n",
        "xgb_fpr, xgb_tpr, thresholds = roc_curve(y_test, xgb_proba)\n",
        "\n",
        "# Compute AUC\n",
        "roc_auc_xgb = auc(xgb_fpr, xgb_tpr)\n",
        "print('\\n')"
      ],
      "metadata": {
        "colab": {
          "base_uri": "https://localhost:8080/"
        },
        "id": "kan9ic8RXTQ1",
        "outputId": "df901321-2a4e-4726-c7fa-5af06bf5ffd1"
      },
      "execution_count": 15,
      "outputs": [
        {
          "output_type": "stream",
          "name": "stderr",
          "text": [
            "/usr/local/lib/python3.11/dist-packages/xgboost/core.py:158: UserWarning: [16:39:39] WARNING: /workspace/src/learner.cc:740: \n",
            "Parameters: { \"use_label_encoder\" } are not used.\n",
            "\n",
            "  warnings.warn(smsg, UserWarning)\n"
          ]
        },
        {
          "output_type": "stream",
          "name": "stdout",
          "text": [
            "\n",
            "\n"
          ]
        }
      ]
    },
    {
      "cell_type": "code",
      "source": [
        "print(\"RandomForestClassifier Results:\")\n",
        "print(\"Model Accuracy:\", accuracy_score(y_test, y_pred_rf))\n",
        "print(\"\\n Classification Report:\\n\", classification_report(y_test, y_pred_rf))\n",
        "print(f\"ROC-AUC Score: {roc_auc_rf}\")\n",
        "\n",
        "\n",
        "print(\"\\nXGBoost Results:\")\n",
        "print(\"Model Accuracy:\", accuracy_score(y_test, y_pred_xgb))\n",
        "print(\"\\n Classification Report:\\n\",classification_report(y_test, y_pred_xgb))\n",
        "print(f\"ROC-AUC Score: {roc_auc_xgb}\")\n"
      ],
      "metadata": {
        "colab": {
          "base_uri": "https://localhost:8080/"
        },
        "id": "MWhZRi4Wabo0",
        "outputId": "00ebde1c-b2b8-4b6b-acd9-933574a0f250",
        "collapsed": true
      },
      "execution_count": 16,
      "outputs": [
        {
          "output_type": "stream",
          "name": "stdout",
          "text": [
            "RandomForestClassifier Results:\n",
            "Model Accuracy: 0.99781\n",
            "\n",
            " Classification Report:\n",
            "               precision    recall  f1-score   support\n",
            "\n",
            "           0       1.00      1.00      1.00     98357\n",
            "           1       0.89      0.99      0.94      1643\n",
            "\n",
            "    accuracy                           1.00    100000\n",
            "   macro avg       0.94      1.00      0.97    100000\n",
            "weighted avg       1.00      1.00      1.00    100000\n",
            "\n",
            "ROC-AUC Score: 0.9992793248582427\n",
            "\n",
            "XGBoost Results:\n",
            "Model Accuracy: 0.99334\n",
            "\n",
            " Classification Report:\n",
            "               precision    recall  f1-score   support\n",
            "\n",
            "           0       1.00      0.99      1.00     98357\n",
            "           1       0.71      1.00      0.83      1643\n",
            "\n",
            "    accuracy                           0.99    100000\n",
            "   macro avg       0.86      1.00      0.91    100000\n",
            "weighted avg       1.00      0.99      0.99    100000\n",
            "\n",
            "ROC-AUC Score: 0.9996354529756523\n"
          ]
        }
      ]
    },
    {
      "cell_type": "markdown",
      "source": [
        "Comparing the results above. We observe that both the RandomForestClassifier and XGBoost models demonstrate exceptional performance with high accuracy (>99%) and ROC-AUC scores (>0.999), indicating strong discriminative power for fraud detection. However, the RandomForestClassifier outperforms XGBoost in terms of balanced metrics for the minority class (fraud), achieving a precision of 0.89 and a recall of 0.99, compared to XGBoost's precision of 0.71 despite its marginally higher ROC-AUC. The lower precision of XGBoost results in a higher rate of false positives, which can be operationally inefficient in real-world applications. Consequently, the RandomForestClassifier is the more suitable choice as it effectively minimizes false alarms while maintaining robust fraud detection capabilities, aligning with the practical demands of operational efficiency and reliability in fraud detection systems."
      ],
      "metadata": {
        "id": "wTkHqVJWeJ6D"
      }
    },
    {
      "cell_type": "code",
      "source": [
        "import joblib\n",
        "\n",
        "# Save the trained model using joblib\n",
        "model_filename = 'rf_model.pkl'\n",
        "joblib.dump(rf_model, model_filename)\n",
        "print(f\"Model saved to {model_filename}\")"
      ],
      "metadata": {
        "colab": {
          "base_uri": "https://localhost:8080/"
        },
        "id": "_SZio__NYWnF",
        "outputId": "db277c16-b005-4190-a6cc-852b92e6b1c3"
      },
      "execution_count": 17,
      "outputs": [
        {
          "output_type": "stream",
          "name": "stdout",
          "text": [
            "Model saved to rf_model.pkl\n"
          ]
        }
      ]
    }
  ]
}